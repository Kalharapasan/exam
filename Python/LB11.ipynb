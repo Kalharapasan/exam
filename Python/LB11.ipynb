{
 "cells": [
  {
   "cell_type": "code",
   "execution_count": 3,
   "id": "41512a7e-42e0-4824-9b47-120f168a0f87",
   "metadata": {},
   "outputs": [],
   "source": [
    "#Task01\n",
    "import pandas as pd\n",
    "import numpy as np\n"
   ]
  },
  {
   "cell_type": "code",
   "execution_count": 4,
   "id": "ce921279-f0ce-4a6b-b5bf-accf8916783a",
   "metadata": {},
   "outputs": [
    {
     "name": "stdout",
     "output_type": "stream",
     "text": [
      "0    10\n",
      "1    20\n",
      "2    30\n",
      "3    40\n",
      "Name: Sample Series, dtype: int64\n"
     ]
    }
   ],
   "source": [
    "series = pd.Series([10, 20, 30, 40], name=\"Sample Series\")\n",
    "print(series)\n"
   ]
  },
  {
   "cell_type": "code",
   "execution_count": 7,
   "id": "2b21306b-b086-4ebe-ad20-fd9d6f0f1db0",
   "metadata": {},
   "outputs": [
    {
     "name": "stdout",
     "output_type": "stream",
     "text": [
      "      Name  Age     City\n",
      "0    Alice   25       NY\n",
      "1      Bob   30       LA\n",
      "2  Charlie   22  Chicago\n"
     ]
    }
   ],
   "source": [
    "data = {\n",
    "    'Name': ['Alice', 'Bob', 'Charlie'],\n",
    "    'Age': [25, 30, 22],\n",
    "    'City': ['NY', 'LA', 'Chicago']\n",
    "}\n",
    "df = pd.DataFrame(data)\n",
    "print(df)\n"
   ]
  },
  {
   "cell_type": "code",
   "execution_count": 10,
   "id": "2e3e83d7-957f-45e1-a142-ef47e57eebd5",
   "metadata": {},
   "outputs": [],
   "source": [
    "df.to_excel(\"sample_data.xlsx\", index=False)\n"
   ]
  },
  {
   "cell_type": "code",
   "execution_count": 9,
   "id": "df0f7deb-3ff5-41eb-b5f9-8d63028e065b",
   "metadata": {},
   "outputs": [
    {
     "name": "stdout",
     "output_type": "stream",
     "text": [
      "First row:\n",
      "     Name  Age City\n",
      "0  Alice   25   NY\n",
      "Last row:\n",
      "       Name  Age     City\n",
      "2  Charlie   22  Chicago\n",
      "Info:\n",
      "\n",
      "<class 'pandas.core.frame.DataFrame'>\n",
      "RangeIndex: 3 entries, 0 to 2\n",
      "Data columns (total 3 columns):\n",
      " #   Column  Non-Null Count  Dtype \n",
      "---  ------  --------------  ----- \n",
      " 0   Name    3 non-null      object\n",
      " 1   Age     3 non-null      int64 \n",
      " 2   City    3 non-null      object\n",
      "dtypes: int64(1), object(2)\n",
      "memory usage: 204.0+ bytes\n",
      "Description:\n",
      "          Name        Age City\n",
      "count       3   3.000000    3\n",
      "unique      3        NaN    3\n",
      "top     Alice        NaN   NY\n",
      "freq        1        NaN    1\n",
      "mean      NaN  25.666667  NaN\n",
      "std       NaN   4.041452  NaN\n",
      "min       NaN  22.000000  NaN\n",
      "25%       NaN  23.500000  NaN\n",
      "50%       NaN  25.000000  NaN\n",
      "75%       NaN  27.500000  NaN\n",
      "max       NaN  30.000000  NaN\n"
     ]
    }
   ],
   "source": [
    "print(\"First row:\\n\", df.head(1))\n",
    "print(\"Last row:\\n\", df.tail(1))\n",
    "print(\"Info:\\n\")\n",
    "df.info()\n",
    "print(\"Description:\\n\", df.describe(include='all'))\n"
   ]
  },
  {
   "cell_type": "code",
   "execution_count": 11,
   "id": "dd3ae3d4-3c0d-42c1-a23f-c7c03704981b",
   "metadata": {},
   "outputs": [
    {
     "name": "stdout",
     "output_type": "stream",
     "text": [
      "     A    B   C\n",
      "0  1.0  5.0   9\n",
      "1  2.0  NaN  10\n",
      "2  NaN  NaN  11\n",
      "3  4.0  8.0  12\n"
     ]
    }
   ],
   "source": [
    "df_missing = pd.DataFrame({\n",
    "    'A': [1, 2, np.nan, 4],\n",
    "    'B': [5, np.nan, np.nan, 8],\n",
    "    'C': [9, 10, 11, 12]\n",
    "})\n",
    "print(df_missing)\n"
   ]
  },
  {
   "cell_type": "code",
   "execution_count": 12,
   "id": "15cb20ef-8a82-43fd-9436-ceb7d1df43a7",
   "metadata": {},
   "outputs": [
    {
     "name": "stdout",
     "output_type": "stream",
     "text": [
      "     A    B   C\n",
      "0  1.0  5.0   9\n",
      "3  4.0  8.0  12\n",
      "     A    B   C\n",
      "0  1.0  5.0   9\n",
      "1  2.0  0.0  10\n",
      "2  0.0  0.0  11\n",
      "3  4.0  8.0  12\n",
      "     A    B   C\n",
      "0  1.0  5.0   9\n",
      "1  2.0  6.0  10\n",
      "2  3.0  7.0  11\n",
      "3  4.0  8.0  12\n"
     ]
    }
   ],
   "source": [
    "# Drop rows with any missing value\n",
    "print(df_missing.dropna())\n",
    "\n",
    "# Fill missing values with a constant\n",
    "print(df_missing.fillna(0))\n",
    "\n",
    "# Interpolate (linear)\n",
    "print(df_missing.interpolate())\n"
   ]
  },
  {
   "cell_type": "code",
   "execution_count": 13,
   "id": "feddb6fe-3c03-4bc5-8a0b-0d68271f1f40",
   "metadata": {},
   "outputs": [
    {
     "name": "stdout",
     "output_type": "stream",
     "text": [
      "  FullName  Age     City\n",
      "0    Alice   25       NY\n",
      "1      Bob   30       LA\n",
      "2  Charlie   22  Chicago\n"
     ]
    }
   ],
   "source": [
    "df_renamed = df.rename(columns={'Name': 'FullName'})\n",
    "print(df_renamed)\n"
   ]
  },
  {
   "cell_type": "code",
   "execution_count": 14,
   "id": "0096e5d4-1e1a-4536-ac0f-8b1f48d0e758",
   "metadata": {},
   "outputs": [
    {
     "name": "stdout",
     "output_type": "stream",
     "text": [
      "Name     object\n",
      "Age     float64\n",
      "City     object\n",
      "dtype: object\n"
     ]
    }
   ],
   "source": [
    "df['Age'] = df['Age'].astype(float)\n",
    "print(df.dtypes)\n"
   ]
  },
  {
   "cell_type": "code",
   "execution_count": 15,
   "id": "9d79b51d-8079-4dac-90e0-fc3c9c4bdfd4",
   "metadata": {},
   "outputs": [
    {
     "name": "stdout",
     "output_type": "stream",
     "text": [
      "      Name   Age     City  AgePlusTen\n",
      "0    Alice  25.0       NY        35.0\n",
      "1      Bob  30.0       LA        40.0\n",
      "2  Charlie  22.0  Chicago        32.0\n"
     ]
    }
   ],
   "source": [
    "df['AgePlusTen'] = df['Age'] + 10\n",
    "print(df)\n"
   ]
  },
  {
   "cell_type": "code",
   "execution_count": 16,
   "id": "f54b3127-5231-4221-a559-4cdc768f9d68",
   "metadata": {},
   "outputs": [],
   "source": [
    "#Task02\n",
    "import pandas as pd\n",
    "import numpy as np\n"
   ]
  },
  {
   "cell_type": "code",
   "execution_count": 17,
   "id": "807637cd-ffb7-4302-9f65-4bbbcfe6e9e8",
   "metadata": {},
   "outputs": [
    {
     "name": "stdout",
     "output_type": "stream",
     "text": [
      "   ID  Score  Gender\n",
      "0   1     87    Male\n",
      "1   2     93  Female\n",
      "2   3     62  Female\n",
      "3   4     58    Male\n",
      "4   5     59  Female\n"
     ]
    }
   ],
   "source": [
    "np.random.seed(1)\n",
    "df = pd.DataFrame({\n",
    "    'ID': np.arange(1, 6),\n",
    "    'Score': np.random.randint(50, 100, 5),\n",
    "    'Gender': ['Male', 'Female', 'Female', 'Male', 'Female']\n",
    "})\n",
    "print(df)\n"
   ]
  },
  {
   "cell_type": "code",
   "execution_count": 18,
   "id": "3ee7992f-1ae0-40b5-a1f3-a0f9c43aab69",
   "metadata": {},
   "outputs": [
    {
     "name": "stdout",
     "output_type": "stream",
     "text": [
      "      ID  Score  Gender\n",
      "0  False  False   False\n",
      "1  False  False   False\n",
      "2  False  False   False\n",
      "3  False  False   False\n",
      "4  False  False   False\n",
      "Total missing values:\n",
      " ID        0\n",
      "Score     0\n",
      "Gender    0\n",
      "dtype: int64\n"
     ]
    }
   ],
   "source": [
    "print(df.isnull())\n",
    "print(\"Total missing values:\\n\", df.isnull().sum())\n"
   ]
  },
  {
   "cell_type": "code",
   "execution_count": 19,
   "id": "90dddf03-a985-4622-bb2f-876cd2b34b72",
   "metadata": {},
   "outputs": [],
   "source": [
    "# Add some NaNs for example\n",
    "df.loc[2, 'Score'] = np.nan\n",
    "\n",
    "# Fill with mean\n",
    "df['Score_filled'] = df['Score'].fillna(df['Score'].mean())\n",
    "\n",
    "# Drop missing rows\n",
    "df_dropped = df.dropna()\n",
    "\n",
    "# Interpolate\n",
    "df['Score_interp'] = df['Score'].interpolate()\n"
   ]
  },
  {
   "cell_type": "code",
   "execution_count": 20,
   "id": "1dc65c48-409d-40e7-879b-d27a9cae736a",
   "metadata": {},
   "outputs": [],
   "source": [
    "# Add a new column (e.g., scaled score)\n",
    "df['Score_scaled'] = df['Score_filled'] / 100\n"
   ]
  },
  {
   "cell_type": "code",
   "execution_count": 21,
   "id": "7701838e-0d9d-4d97-a227-d688bf646fb3",
   "metadata": {},
   "outputs": [],
   "source": [
    "df2 = pd.DataFrame({\n",
    "    'ID': [1, 2, 3, 4, 5],\n",
    "    'Grade': ['A', 'B', 'C', 'A', 'B']\n",
    "})\n",
    "\n",
    "# Concatenation (row-wise)\n",
    "concat_df = pd.concat([df, df2], axis=1)\n",
    "\n",
    "# Merging on ID\n",
    "merged_df = pd.merge(df, df2, on='ID')\n",
    "\n",
    "# Joining (setting index first)\n",
    "df3 = df.set_index('ID')\n",
    "df4 = df2.set_index('ID')\n",
    "joined_df = df3.join(df4)\n"
   ]
  },
  {
   "cell_type": "code",
   "execution_count": 22,
   "id": "f567ce9c-103d-440e-af4e-f1f811385784",
   "metadata": {},
   "outputs": [
    {
     "name": "stdout",
     "output_type": "stream",
     "text": [
      "\n",
      "Female Group:\n",
      "    ID  Score  Gender  Score_filled  Score_interp  Score_scaled\n",
      "1   2   93.0  Female         93.00          93.0        0.9300\n",
      "2   3    NaN  Female         74.25          75.5        0.7425\n",
      "4   5   59.0  Female         59.00          59.0        0.5900\n",
      "\n",
      "Male Group:\n",
      "    ID  Score Gender  Score_filled  Score_interp  Score_scaled\n",
      "0   1   87.0   Male          87.0          87.0          0.87\n",
      "3   4   58.0   Male          58.0          58.0          0.58\n",
      "Mean by gender:\n",
      " Gender\n",
      "Female    75.416667\n",
      "Male      72.500000\n",
      "Name: Score_filled, dtype: float64\n"
     ]
    }
   ],
   "source": [
    "grouped = df.groupby('Gender')\n",
    "\n",
    "# Iterate over groups\n",
    "for name, group in grouped:\n",
    "    print(f\"\\n{name} Group:\\n\", group)\n",
    "\n",
    "# Apply aggregation\n",
    "print(\"Mean by gender:\\n\", grouped['Score_filled'].mean())\n"
   ]
  },
  {
   "cell_type": "code",
   "execution_count": 23,
   "id": "2bd9109d-4e7d-45eb-b94e-8ad89b6cc9c9",
   "metadata": {},
   "outputs": [
    {
     "name": "stdout",
     "output_type": "stream",
     "text": [
      "             mean   min   max\n",
      "Gender                       \n",
      "Female  75.416667  59.0  93.0\n",
      "Male    72.500000  58.0  87.0\n"
     ]
    }
   ],
   "source": [
    "print(df.groupby('Gender')['Score_filled'].agg(['mean', 'min', 'max']))\n"
   ]
  },
  {
   "cell_type": "code",
   "execution_count": 24,
   "id": "c63a4d0f-479f-4845-9536-953265301750",
   "metadata": {},
   "outputs": [
    {
     "name": "stdout",
     "output_type": "stream",
     "text": [
      "        Score_filled\n",
      "Gender              \n",
      "Female     75.416667\n",
      "Male       72.500000\n"
     ]
    }
   ],
   "source": [
    "pivot = pd.pivot_table(df, values='Score_filled', index='Gender', aggfunc='mean')\n",
    "print(pivot)\n"
   ]
  },
  {
   "cell_type": "code",
   "execution_count": 25,
   "id": "dc019480-c8e9-4feb-950c-321c060edc42",
   "metadata": {},
   "outputs": [
    {
     "name": "stdout",
     "output_type": "stream",
     "text": [
      "       Score_filled            Score_scaled      \n",
      "               mean        std          min   max\n",
      "Gender                                           \n",
      "Female    75.416667  17.029998         0.59  0.93\n",
      "Male      72.500000  20.506097         0.58  0.87\n"
     ]
    }
   ],
   "source": [
    "summary = df.groupby('Gender').agg({\n",
    "    'Score_filled': ['mean', 'std'],\n",
    "    'Score_scaled': ['min', 'max']\n",
    "})\n",
    "print(summary)\n"
   ]
  },
  {
   "cell_type": "code",
   "execution_count": 28,
   "id": "0dece033-7153-4737-a4d3-549643d485f5",
   "metadata": {},
   "outputs": [
    {
     "name": "stdout",
     "output_type": "stream",
     "text": [
      "              ID  Score  Score_filled  Score_interp  Score_scaled\n",
      "Gender                                                           \n",
      "Female  3.333333   76.0     75.416667     75.833333      0.754167\n",
      "Male    2.500000   72.5     72.500000     72.500000      0.725000\n"
     ]
    }
   ],
   "source": [
    "print(df.groupby('Gender').mean())"
   ]
  },
  {
   "cell_type": "code",
   "execution_count": null,
   "id": "777c819d-3d56-4d21-9ca3-75262267c02a",
   "metadata": {},
   "outputs": [],
   "source": []
  }
 ],
 "metadata": {
  "kernelspec": {
   "display_name": "Python 3 (ipykernel)",
   "language": "python",
   "name": "python3"
  },
  "language_info": {
   "codemirror_mode": {
    "name": "ipython",
    "version": 3
   },
   "file_extension": ".py",
   "mimetype": "text/x-python",
   "name": "python",
   "nbconvert_exporter": "python",
   "pygments_lexer": "ipython3",
   "version": "3.13.5"
  }
 },
 "nbformat": 4,
 "nbformat_minor": 5
}
