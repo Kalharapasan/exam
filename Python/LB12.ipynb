{
 "cells": [
  {
   "cell_type": "code",
   "execution_count": 1,
   "id": "fe0b9e82-a624-4bd1-8bd9-1255f1ab03b1",
   "metadata": {},
   "outputs": [
    {
     "name": "stdout",
     "output_type": "stream",
     "text": [
      "Breadth First Search starting from node A:\n",
      "A B C D E F "
     ]
    }
   ],
   "source": [
    "#Breadth First Search using Python\n",
    "from collections import deque\n",
    "\n",
    "# Define the graph as an adjacency list\n",
    "graph = {\n",
    "    'A': ['B', 'C'],\n",
    "    'B': ['D', 'E'],\n",
    "    'C': ['F'],\n",
    "    'D': [],\n",
    "    'E': ['F'],\n",
    "    'F': []\n",
    "}\n",
    "\n",
    "def bfs(start):\n",
    "    visited = set()\n",
    "    queue = deque([start])\n",
    "\n",
    "    while queue:\n",
    "        vertex = queue.popleft()\n",
    "        if vertex not in visited:\n",
    "            print(vertex, end=' ')\n",
    "            visited.add(vertex)\n",
    "            queue.extend([neighbor for neighbor in graph[vertex] if neighbor not in visited])\n",
    "\n",
    "# Run BFS starting from 'A'\n",
    "print(\"Breadth First Search starting from node A:\")\n",
    "bfs('A')\n"
   ]
  },
  {
   "cell_type": "code",
   "execution_count": 2,
   "id": "7b887888-bb91-42be-9969-7057c37086fa",
   "metadata": {},
   "outputs": [
    {
     "name": "stdout",
     "output_type": "stream",
     "text": [
      "Depth First Search starting from node A:\n",
      "A B D E F C "
     ]
    }
   ],
   "source": [
    "#Depth First Search using Python.\n",
    "# Define the graph as an adjacency list\n",
    "graph = {\n",
    "    'A': ['B', 'C'],\n",
    "    'B': ['D', 'E'],\n",
    "    'C': ['F'],\n",
    "    'D': [],\n",
    "    'E': ['F'],\n",
    "    'F': []\n",
    "}\n",
    "\n",
    "def dfs(node, visited=None):\n",
    "    if visited is None:\n",
    "        visited = set()\n",
    "    \n",
    "    if node not in visited:\n",
    "        print(node, end=' ')\n",
    "        visited.add(node)\n",
    "        for neighbor in graph[node]:\n",
    "            dfs(neighbor, visited)\n",
    "\n",
    "# Run DFS starting from 'A'\n",
    "print(\"Depth First Search starting from node A:\")\n",
    "dfs('A')\n"
   ]
  },
  {
   "cell_type": "code",
   "execution_count": null,
   "id": "11ece791-7156-4603-a12d-e8f939f366d1",
   "metadata": {},
   "outputs": [],
   "source": []
  }
 ],
 "metadata": {
  "kernelspec": {
   "display_name": "Python 3 (ipykernel)",
   "language": "python",
   "name": "python3"
  },
  "language_info": {
   "codemirror_mode": {
    "name": "ipython",
    "version": 3
   },
   "file_extension": ".py",
   "mimetype": "text/x-python",
   "name": "python",
   "nbconvert_exporter": "python",
   "pygments_lexer": "ipython3",
   "version": "3.13.5"
  }
 },
 "nbformat": 4,
 "nbformat_minor": 5
}
