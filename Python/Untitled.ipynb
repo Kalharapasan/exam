{
 "cells": [
  {
   "cell_type": "code",
   "execution_count": 9,
   "id": "3ee7f65e-d842-4e35-ba5f-a675d0c1927c",
   "metadata": {},
   "outputs": [
    {
     "name": "stdout",
     "output_type": "stream",
     "text": [
      "ABCDEF"
     ]
    }
   ],
   "source": [
    "from collections import deque\n",
    "\n",
    "\n",
    "def bfs(start):\n",
    "    visited=set()\n",
    "    queue=deque([start])\n",
    "    while queue:\n",
    "        vertex = queue.popleft()\n",
    "        if vertex not in visited:\n",
    "            print(vertex,end='')\n",
    "            visited.add(vertex)\n",
    "            queue.extend([neighbor for neighbor in graph[vertex] if neighbor not in visited])\n",
    "graph={\n",
    "    'A':['B','C'],\n",
    "    'B':['D','E'],\n",
    "    'C':['F'],\n",
    "    'D':[],\n",
    "    'E':['F'],\n",
    "    'F':[]\n",
    "}\n",
    "\n",
    "bfs('A')"
   ]
  },
  {
   "cell_type": "code",
   "execution_count": null,
   "id": "5c28ca2a-1609-474f-8f21-46cfab223531",
   "metadata": {},
   "outputs": [],
   "source": []
  }
 ],
 "metadata": {
  "kernelspec": {
   "display_name": "Python 3 (ipykernel)",
   "language": "python",
   "name": "python3"
  },
  "language_info": {
   "codemirror_mode": {
    "name": "ipython",
    "version": 3
   },
   "file_extension": ".py",
   "mimetype": "text/x-python",
   "name": "python",
   "nbconvert_exporter": "python",
   "pygments_lexer": "ipython3",
   "version": "3.13.5"
  }
 },
 "nbformat": 4,
 "nbformat_minor": 5
}
